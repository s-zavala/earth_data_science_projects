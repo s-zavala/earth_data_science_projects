{
 "cells": [
  {
   "cell_type": "markdown",
   "metadata": {},
   "source": [
    "# Vector Data Formats"
   ]
  },
  {
   "cell_type": "markdown",
   "metadata": {},
   "source": []
  }
 ],
 "metadata": {
  "interpreter": {
   "hash": "1ddce13a4d8e9b1db397586bcfa4778648d9a04544f7b7ab7f77f3b72756e5a8"
  },
  "kernelspec": {
   "display_name": "Python 3.9.4 64-bit ('earthsci': pyenv)",
   "language": "python",
   "name": "python3"
  },
  "language_info": {
   "name": "python",
   "version": "3.9.4"
  },
  "orig_nbformat": 4
 },
 "nbformat": 4,
 "nbformat_minor": 2
}
