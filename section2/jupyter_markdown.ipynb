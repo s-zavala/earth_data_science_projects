{
 "cells": [
  {
   "cell_type": "markdown",
   "metadata": {},
   "source": [
    "# Text File Formats"
   ]
  },
  {
   "cell_type": "markdown",
   "metadata": {},
   "source": [
    "## This is my sub-heading\n",
    "This is a paragraph"
   ]
  },
  {
   "cell_type": "markdown",
   "metadata": {},
   "source": [
    "* Item 1\n",
    "* Item 2\n",
    "* Item 3\n",
    "1. Item\n",
    "2. Item\n"
   ]
  },
  {
   "cell_type": "markdown",
   "metadata": {},
   "source": [
    "This is some code: `print(\"spam\")`"
   ]
  },
  {
   "cell_type": "markdown",
   "metadata": {},
   "source": [
    "This is a code block:\n",
    "```\n",
    "def spam(n):\n",
    "    print(\"spam\"*n)\n",
    "```"
   ]
  },
  {
   "cell_type": "markdown",
   "metadata": {},
   "source": [
    "***\n",
    "This is an important bit of text.\n",
    "***"
   ]
  },
  {
   "cell_type": "markdown",
   "metadata": {},
   "source": [
    "This is a <a href=\"#\">link</a>."
   ]
  },
  {
   "cell_type": "markdown",
   "metadata": {},
   "source": [
    "![A painting of snowy mountains.](./nicholas_roerich.jpg)"
   ]
  }
 ],
 "metadata": {
  "interpreter": {
   "hash": "d965151e1e24978be9235f82f8a7d1b0ef4208381d6a3318edbbe18bb92f25b7"
  },
  "kernelspec": {
   "display_name": "Python 3.9.4 64-bit ('earthsci')",
   "language": "python",
   "name": "python3"
  },
  "language_info": {
   "name": "python",
   "version": "3.9.4"
  },
  "orig_nbformat": 4
 },
 "nbformat": 4,
 "nbformat_minor": 2
}
